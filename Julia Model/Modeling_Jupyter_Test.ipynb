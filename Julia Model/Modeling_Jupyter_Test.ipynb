{
 "cells": [
  {
   "cell_type": "code",
   "execution_count": null,
   "id": "63c3916e",
   "metadata": {},
   "outputs": [
    {
     "name": "stderr",
     "output_type": "stream",
     "text": [
      "\u001b[32m\u001b[1m  Activating\u001b[22m\u001b[39m project at `c:\\Users\\acfar\\OneDrive\\Desktop\\CEE Courses\\CEE 492 Data Science\\Semester Project\\cee-492-project-2025-gasc\\Julia Model`\n",
      "\u001b[92m\u001b[1mPrecompiling\u001b[22m\u001b[39m project...\n"
     ]
    },
    {
     "name": "stdout",
     "output_type": "stream",
     "text": [
      "LLVM ERROR: IO failure on output stream: No space left on device\n",
      "PLEASE submit a bug report to https://github.com/julialang/julia and include the crash backtrace.\n",
      "Stack dump:\n",
      "0.\tProgram arguments: C:\\\\Users\\\\acfar\\\\.julia\\\\juliaup\\\\julia-1.11.7+0.x64.w64.mingw32\\\\libexec\\\\julia\\\\lld.exe -flavor gnu -m i386pep -Bdynamic --enable-auto-image-base --allow-multiple-definition --disable-auto-import --disable-runtime-pseudo-reloc  -shared -o C:\\\\Users\\\\acfar\\\\.julia\\\\compiled\\\\v1.11\\\\DataFrames\\\\jl_45E.tmp --whole-archive C:\\\\Users\\\\acfar\\\\.julia\\\\compiled\\\\v1.11\\\\DataFrames\\\\jl_45D.tmp --no-whole-archive -LC:\\\\Users\\\\acfar\\\\.julia\\\\juliaup\\\\julia-1.11.7+0.x64.w64.mingw32\\\\lib\\\\julia -LC:\\\\Users\\\\acfar\\\\.julia\\\\juliaup\\\\julia-1.11.7+0.x64.w64.mingw32\\\\bin -ljulia -ljulia-internal -lopenlibm -lssp -lgcc_s -lgcc -lmsvcrt\n"
     ]
    }
   ],
   "source": [
    "# ======================================\n",
    "#  CEE 492 - Bridge Scour Analysis\n",
    "#  Julia Model setup\n",
    "# ======================================\n",
    "\n",
    "import Pkg\n",
    "Pkg.activate(@__DIR__)\n",
    "Pkg.instantiate()\n",
    "\n",
    "using CSV, DataFrames, Statistics, StatsBase, Plots, StatsPlots, LinearAlgebra\n",
    "\n",
    "# Make plots display inline\n",
    "gr()   # or plotlyjs() if you want interactive plots\n",
    "\n",
    "println(\"Environment ready! ✅\")"
   ]
  },
  {
   "cell_type": "code",
   "execution_count": null,
   "id": "1cf08eee",
   "metadata": {},
   "outputs": [],
   "source": []
  }
 ],
 "metadata": {
  "kernelspec": {
   "display_name": "Julia 1.11.7",
   "language": "julia",
   "name": "julia-1.11"
  },
  "language_info": {
   "file_extension": ".jl",
   "mimetype": "application/julia",
   "name": "julia",
   "version": "1.11.7"
  }
 },
 "nbformat": 4,
 "nbformat_minor": 5
}
